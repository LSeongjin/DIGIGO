{
  "nbformat": 4,
  "nbformat_minor": 0,
  "metadata": {
    "colab": {
      "name": "model.ipynb",
      "provenance": [],
      "collapsed_sections": []
    },
    "kernelspec": {
      "name": "python3",
      "display_name": "Python 3"
    },
    "language_info": {
      "name": "python"
    },
    "accelerator": "GPU"
  },
  "cells": [
    {
      "cell_type": "markdown",
      "source": [
        "# Module Import\n",
        "## Module\n",
        "\n",
        "\n",
        "* numpy : ndarray\n",
        "* cv2 : image resize, 불러오기 등의 처리\n",
        "* glob : 디렉토리 파일 탐색\n",
        "* tensorflow : 모듈 설계\n",
        "* itertools : list iterate"
      ],
      "metadata": {
        "id": "_S3m2Ayl54DA"
      }
    },
    {
      "cell_type": "code",
      "execution_count": 1,
      "metadata": {
        "id": "oxye4JV62b0C"
      },
      "outputs": [],
      "source": [
        "import numpy as np\n",
        "import cv2\n",
        "import sys\n",
        "import os\n",
        "import glob\n",
        "import tensorflow as tf\n",
        "from tensorflow.keras import datasets, layers, models\n",
        "from tensorflow.keras.callbacks import ModelCheckpoint, EarlyStopping\n",
        "from itertools import chain, repeat, cycle\n",
        "from sklearn.model_selection import train_test_split"
      ]
    },
    {
      "cell_type": "markdown",
      "source": [
        "# Colab 드라이브 마운트\n",
        "##### 이후 $ cd gdrive/MyDrive/경로.. 로 기본 디렉토리 수정하여 사용\n",
        "##### 이미지 데이터를 가지고 와서 train data 라벨링 진행해야 함"
      ],
      "metadata": {
        "id": "cIeEwiRv6PfP"
      }
    },
    {
      "cell_type": "code",
      "source": [
        "from google.colab import drive\n",
        "drive.mount('/content/gdrive')"
      ],
      "metadata": {
        "colab": {
          "base_uri": "https://localhost:8080/"
        },
        "id": "ct7XkwXg3Q35",
        "outputId": "dbc2849a-0a61-4a60-cee5-ee7d0278e8b4"
      },
      "execution_count": 2,
      "outputs": [
        {
          "output_type": "stream",
          "name": "stdout",
          "text": [
            "Mounted at /content/gdrive\n"
          ]
        }
      ]
    },
    {
      "cell_type": "code",
      "source": [
        "cd gdrive/MyDrive/KT"
      ],
      "metadata": {
        "colab": {
          "base_uri": "https://localhost:8080/"
        },
        "id": "jUerRhDF4Vyv",
        "outputId": "da589d04-3472-4fa3-a79c-51919df2a990"
      },
      "execution_count": 3,
      "outputs": [
        {
          "output_type": "stream",
          "name": "stdout",
          "text": [
            "/content/gdrive/MyDrive/KT\n"
          ]
        }
      ]
    },
    {
      "cell_type": "markdown",
      "source": [
        "# 이미지 불러오기\n",
        "##### glob.glob(path) 함수 결과를 sort하여 img데이터 들어오는 순서 고정\n",
        "##### cv2.imread() 함수로 img를 읽어오게 됨\n",
        "  - cv2.IMREAD_COLOR : 컬러 이미지 불러올 때 쓰는 옵션\n",
        "##### cv2.resize() : 크기 조절\n",
        "  - dsize를 고정함으로써 원하는 크기로 불러온 이미지 데이터 수정 가능\n",
        "\n",
        "##### 256.0으로 나누어 float데이터 타입을 유지하면서 normalize\n",
        "\n",
        "\n",
        "\n"
      ],
      "metadata": {
        "id": "aaobow4Z6aq6"
      }
    },
    {
      "cell_type": "code",
      "source": [
        "folder = \"Image/*\""
      ],
      "metadata": {
        "id": "EykEy2_QRA6s"
      },
      "execution_count": 4,
      "outputs": []
    },
    {
      "cell_type": "code",
      "source": [
        "# get img list from path\n",
        "image_folders = sorted(glob.glob(folder))"
      ],
      "metadata": {
        "id": "dk5R2eBZ2q25"
      },
      "execution_count": 5,
      "outputs": []
    },
    {
      "cell_type": "code",
      "source": [
        "image_folders.remove('Image/info')"
      ],
      "metadata": {
        "id": "-FqB1E2hxb5Y"
      },
      "execution_count": 6,
      "outputs": []
    },
    {
      "cell_type": "code",
      "source": [
        "files = []\n",
        "each_class_num = []\n",
        "for folder in image_folders:\n",
        "  temp = sorted(glob.glob(folder + \"/*.jpg\"))\n",
        "  temp.extend(sorted(glob.glob(folder + \"/*.png\")))\n",
        "  temp.extend(sorted(glob.glob(folder + \"/*.jpeg\")))\n",
        "  temp.extend(sorted(glob.glob(folder + \"/*.jfif\")))\n",
        "  files.extend(temp)\n",
        "  each_class_num.append(len(temp))"
      ],
      "metadata": {
        "id": "ceGn9zm94pFi"
      },
      "execution_count": 7,
      "outputs": []
    },
    {
      "cell_type": "code",
      "source": [
        "# read image from files list & reshape\n",
        "# train_img shape : ( , 256, 256, 3)\n",
        "train_img = np.array(np.array([cv2.resize(cv2.imread(file, cv2.IMREAD_COLOR), dsize=(256, 256),\n",
        "                                 interpolation=cv2.INTER_LINEAR).astype(np.float64) for file in files]))"
      ],
      "metadata": {
        "id": "yvaJ9ZAUVQc7"
      },
      "execution_count": 8,
      "outputs": []
    },
    {
      "cell_type": "code",
      "source": [
        "image_num = train_img.shape[0]\n",
        "labels = 4\n",
        "train_label = np.array(list(chain.from_iterable((repeat(n, k) for (n, k) in zip(range(labels), each_class_num)))))"
      ],
      "metadata": {
        "id": "YoqgOQ91WL7z"
      },
      "execution_count": 17,
      "outputs": []
    },
    {
      "cell_type": "code",
      "source": [
        "# normalize\n",
        "train_img = train_img / (256.0)"
      ],
      "metadata": {
        "id": "VplUw2wA2v2b"
      },
      "execution_count": 18,
      "outputs": []
    },
    {
      "cell_type": "code",
      "source": [
        "x_train, x_test, y_train, y_test = train_test_split(train_img, train_label, test_size=0.1, stratify=train_label, random_state=34)\n",
        "x_train, x_val, y_train, y_val = train_test_split(x_train, y_train, test_size=0.3, stratify=y_train, random_state=12)"
      ],
      "metadata": {
        "id": "ZgOhCJ3kzqW7"
      },
      "execution_count": 19,
      "outputs": []
    },
    {
      "cell_type": "markdown",
      "source": [
        "# Model Architecture\n",
        "\n",
        "**코드가 조금 더러움 주의**\n",
        "\n",
        "기본적으로 ResNet의 구조를 가지고 있는 NN으로 구성\n",
        "## Hyperparameters\n",
        "##### **수정 불가능한 hyperparameter**\n",
        "  - input_img_shape : 256*256으로 고정\n",
        "  - input_channel : RGB 3채널 이미지\n",
        "\n",
        "##### **수정 가능한 hyperparmeter**\n",
        "  - layer1_output_channel : layer1 의 output channel개수\n",
        "  - layer1_kernel_size : ResNet 처음 conv kernel_size는 7*7 이용\n",
        "  - layer2_output_channel : layer2 의 output channel개수 (== layer1_output_channel)\n",
        "  - layer3_output_channel : layer3 의 output channel개수 (layer2_output_channel * 2)\n",
        "  - res_kernel_size : resNet에서는 기본적으로 첫번째 conv 제외 3*3 kernel로 고정\n",
        "\n",
        "## Layers\n",
        "1. layer1 : convolution + pooling\n",
        "2. layer2 : conv + norm + relu + conv + norm + relu + add\n",
        "3. layer3 : conv + norm + relu + conv + norm + relu + identity + add\n",
        "4. flatten : 분류기에 넣기 위해 flatten진행\n",
        "5. classifier : 분류기, FC layer이용, ResNet에서는 FC layer의 Weight개수가 많으므로 한개의 FC layer만 사용\n",
        "\n",
        "### 1*1 Convolution\n",
        "layer2에서 사용하는 res_unit2의 경우, 이미지 데이터가 들어갈 때 layer2_output_channel개로 들어가지만, 나올 때 layer3_output_channel로 나오게 되는데, channel개수를 맞추어주기 위해서 convolution진행.\n",
        "이미지 크기도 res_unit2의 첫번째 convolution에서 stride (2, 2)로 진행하므로 반으로 줄어들게 되므로 1*1 convolution도 stride (2, 2)로 진행"
      ],
      "metadata": {
        "id": "9fonqlP-7Oat"
      }
    },
    {
      "cell_type": "code",
      "source": [
        "# Hyperparameters\n",
        "global input_img_shape, input_channel, layer1_output_channel, layer1_kernel_size, res_kernel_size, layer2_output_channel, layer3_output_channel\n",
        "input_img_shape = (256, 256, 3)\n",
        "input_channel = 3\n",
        "layer1_output_channel = 6\n",
        "layer1_kernel_size = (7, 7)\n",
        "layer2_output_channel = 6\n",
        "layer3_output_channel = 12\n",
        "\n",
        "# overall residual units num = num_residual_units * num_residual_layers \n",
        "res_kernel_size = (11, 11)"
      ],
      "metadata": {
        "id": "83CKVEPeR1TD"
      },
      "execution_count": 20,
      "outputs": []
    },
    {
      "cell_type": "code",
      "source": [
        "from tensorflow.python.keras.activations import softmax\n",
        "class cnn_model(tf.keras.Model):\n",
        "  global input_img_shape, input_channel, layer1_output_channel, layer1_kernel_size, res_kernel_size, layer2_output_channel, layer3_output_channel\n",
        "  def __init__(self):\n",
        "    super(cnn_model, self).__init__()\n",
        "    \n",
        "    self.conv1 = layers.Conv2D(layer1_output_channel, layer1_kernel_size, strides=(2, 2), \n",
        "                       padding='same', input_shape=input_img_shape, activation='relu')\n",
        "    self.pool1 = layers.MaxPool2D(pool_size=(2, 2))\n",
        "    self.conv2_t = layers.Conv2D(layer2_output_channel, res_kernel_size, padding='same')\n",
        "    self.batchnorm1 = layers.BatchNormalization()\n",
        "    self.relu1 = layers.ReLU()\n",
        "    self.conv2 = layers.Conv2D(layer2_output_channel, res_kernel_size, padding='same')\n",
        "    self.batchnorm2 = layers.BatchNormalization()\n",
        "    self.relu2 = layers.ReLU()\n",
        "    self.add1 = layers.Add()\n",
        "    \n",
        "    self.conv3 = layers.Conv2D(layer3_output_channel, res_kernel_size, strides=(2, 2), padding='same')\n",
        "    self.batchnorm3 = layers.BatchNormalization()\n",
        "    self.relu3 = layers.ReLU()\n",
        "    \n",
        "    self.conv4 = layers.Conv2D(layer3_output_channel, res_kernel_size, padding='same')\n",
        "    self.batchnorm4 = layers.BatchNormalization()\n",
        "    self.relu4 = layers.ReLU()\n",
        "    self.identity1 = layers.Conv2D(layer3_output_channel, (1, 1), padding='same', strides=(2, 2))\n",
        "    self.add2 = layers.Add()\n",
        "\n",
        "    self.flat = layers.Flatten()\n",
        "    self.fc1 = layers.Dense(4)\n",
        "\n",
        "  def call(self, x):\n",
        "    x = self.conv1(x)\n",
        "    x = self.pool1(x)\n",
        "    x_t = self.conv2_t(x)\n",
        "    x_t = self.batchnorm1(x_t)\n",
        "    x_t = self.relu1(x_t)\n",
        "    x_t = self.conv2(x_t)\n",
        "    x_t = self.batchnorm2(x_t)\n",
        "    x_t = self.relu2(x_t)\n",
        "    x = self.add1([x, x_t])\n",
        "    #print(x.shape)\n",
        "    x_t = self.conv3(x)\n",
        "    x_t = self.batchnorm3(x_t)\n",
        "    x_t = self.relu3(x_t)\n",
        "    x_t = self.conv4(x_t)\n",
        "    x_t = self.batchnorm4(x_t)\n",
        "    x_t = self.relu4(x_t)\n",
        "    x = self.identity1(x)\n",
        "    x = self.add2([x, x_t])\n",
        "\n",
        "    x = self.flat(x)\n",
        "    x = self.fc1(x)\n",
        "    probs = softmax(x)\n",
        "    return probs"
      ],
      "metadata": {
        "id": "892Gl70xF178"
      },
      "execution_count": 21,
      "outputs": []
    },
    {
      "cell_type": "code",
      "source": [
        "model = cnn_model()"
      ],
      "metadata": {
        "id": "m_F-B1R6A2g8"
      },
      "execution_count": 38,
      "outputs": []
    },
    {
      "cell_type": "markdown",
      "source": [
        "model optimizer, loss등 정의 compile"
      ],
      "metadata": {
        "id": "Ct65qbqsyrX9"
      }
    },
    {
      "cell_type": "code",
      "source": [
        "model.compile(optimizer='adam', loss='sparse_categorical_crossentropy', metrics=['accuracy'])"
      ],
      "metadata": {
        "id": "L8gudp5MT9Y7"
      },
      "execution_count": 39,
      "outputs": []
    },
    {
      "cell_type": "markdown",
      "source": [
        "train"
      ],
      "metadata": {
        "id": "sT8fbjD4yxjs"
      }
    },
    {
      "cell_type": "code",
      "source": [
        "# Train Hyperparameters\n",
        "epoch = 50\n",
        "batch = 10"
      ],
      "metadata": {
        "id": "v6KAI2UG4gl8"
      },
      "execution_count": 40,
      "outputs": []
    },
    {
      "cell_type": "code",
      "source": [
        "filename = 'checkpoint.ckpt'\n",
        "checkpoint = ModelCheckpoint(filename, monitor='val_loss', verbose=1, save_best_only=True, save_weights_only=True)\n",
        "earlystopping = EarlyStopping(monitor='val_loss', patience=10)\n",
        "# , callbacks=[checkpoint, earlystopping]"
      ],
      "metadata": {
        "id": "kYyYZywR5vYQ"
      },
      "execution_count": 41,
      "outputs": []
    },
    {
      "cell_type": "code",
      "source": [
        "history = model.fit(x_train, y_train, epochs=epoch, validation_data=(x_val, y_val) , callbacks=[checkpoint, earlystopping])"
      ],
      "metadata": {
        "id": "QZXKBeRnUNTu",
        "colab": {
          "base_uri": "https://localhost:8080/"
        },
        "outputId": "5b17426a-ba10-4c2c-9f5f-9d2ceaeaf7ff"
      },
      "execution_count": 42,
      "outputs": [
        {
          "output_type": "stream",
          "name": "stdout",
          "text": [
            "Epoch 1/50\n",
            "13/14 [==========================>...] - ETA: 0s - loss: 3.6631 - accuracy: 0.4207\n",
            "Epoch 00001: val_loss improved from inf to 1.73466, saving model to checkpoint.ckpt\n",
            "14/14 [==============================] - 2s 107ms/step - loss: 3.5537 - accuracy: 0.4339 - val_loss: 1.7347 - val_accuracy: 0.3784\n",
            "Epoch 2/50\n",
            "13/14 [==========================>...] - ETA: 0s - loss: 1.1393 - accuracy: 0.6514\n",
            "Epoch 00002: val_loss did not improve from 1.73466\n",
            "14/14 [==============================] - 1s 66ms/step - loss: 1.1198 - accuracy: 0.6543 - val_loss: 3.0975 - val_accuracy: 0.2919\n",
            "Epoch 3/50\n",
            "13/14 [==========================>...] - ETA: 0s - loss: 0.7682 - accuracy: 0.7644\n",
            "Epoch 00003: val_loss improved from 1.73466 to 1.59103, saving model to checkpoint.ckpt\n",
            "14/14 [==============================] - 1s 77ms/step - loss: 0.7746 - accuracy: 0.7633 - val_loss: 1.5910 - val_accuracy: 0.3730\n",
            "Epoch 4/50\n",
            "13/14 [==========================>...] - ETA: 0s - loss: 0.4469 - accuracy: 0.8173\n",
            "Epoch 00004: val_loss did not improve from 1.59103\n",
            "14/14 [==============================] - 1s 67ms/step - loss: 0.4477 - accuracy: 0.8190 - val_loss: 2.2309 - val_accuracy: 0.2973\n",
            "Epoch 5/50\n",
            "13/14 [==========================>...] - ETA: 0s - loss: 0.4747 - accuracy: 0.8462\n",
            "Epoch 00005: val_loss improved from 1.59103 to 1.28662, saving model to checkpoint.ckpt\n",
            "14/14 [==============================] - 1s 76ms/step - loss: 0.4749 - accuracy: 0.8422 - val_loss: 1.2866 - val_accuracy: 0.5243\n",
            "Epoch 6/50\n",
            "13/14 [==========================>...] - ETA: 0s - loss: 0.4379 - accuracy: 0.8413\n",
            "Epoch 00006: val_loss did not improve from 1.28662\n",
            "14/14 [==============================] - 1s 68ms/step - loss: 0.4357 - accuracy: 0.8399 - val_loss: 1.7534 - val_accuracy: 0.5081\n",
            "Epoch 7/50\n",
            "13/14 [==========================>...] - ETA: 0s - loss: 0.4544 - accuracy: 0.8462\n",
            "Epoch 00007: val_loss improved from 1.28662 to 0.85138, saving model to checkpoint.ckpt\n",
            "14/14 [==============================] - 1s 88ms/step - loss: 0.4524 - accuracy: 0.8492 - val_loss: 0.8514 - val_accuracy: 0.6216\n",
            "Epoch 8/50\n",
            "13/14 [==========================>...] - ETA: 0s - loss: 0.3864 - accuracy: 0.8582\n",
            "Epoch 00008: val_loss did not improve from 0.85138\n",
            "14/14 [==============================] - 1s 69ms/step - loss: 0.3887 - accuracy: 0.8561 - val_loss: 1.6717 - val_accuracy: 0.4811\n",
            "Epoch 9/50\n",
            "13/14 [==========================>...] - ETA: 0s - loss: 0.3340 - accuracy: 0.8774\n",
            "Epoch 00009: val_loss did not improve from 0.85138\n",
            "14/14 [==============================] - 1s 67ms/step - loss: 0.3241 - accuracy: 0.8817 - val_loss: 1.2345 - val_accuracy: 0.5189\n",
            "Epoch 10/50\n",
            "13/14 [==========================>...] - ETA: 0s - loss: 0.2615 - accuracy: 0.9014\n",
            "Epoch 00010: val_loss improved from 0.85138 to 0.62831, saving model to checkpoint.ckpt\n",
            "14/14 [==============================] - 1s 90ms/step - loss: 0.2589 - accuracy: 0.9002 - val_loss: 0.6283 - val_accuracy: 0.7081\n",
            "Epoch 11/50\n",
            "13/14 [==========================>...] - ETA: 0s - loss: 0.1860 - accuracy: 0.9495\n",
            "Epoch 00011: val_loss did not improve from 0.62831\n",
            "14/14 [==============================] - 1s 70ms/step - loss: 0.1815 - accuracy: 0.9513 - val_loss: 0.8961 - val_accuracy: 0.6432\n",
            "Epoch 12/50\n",
            "13/14 [==========================>...] - ETA: 0s - loss: 0.1537 - accuracy: 0.9447\n",
            "Epoch 00012: val_loss improved from 0.62831 to 0.61365, saving model to checkpoint.ckpt\n",
            "14/14 [==============================] - 1s 101ms/step - loss: 0.1498 - accuracy: 0.9466 - val_loss: 0.6137 - val_accuracy: 0.7405\n",
            "Epoch 13/50\n",
            "13/14 [==========================>...] - ETA: 0s - loss: 0.1268 - accuracy: 0.9639\n",
            "Epoch 00013: val_loss improved from 0.61365 to 0.43381, saving model to checkpoint.ckpt\n",
            "14/14 [==============================] - 1s 86ms/step - loss: 0.1237 - accuracy: 0.9652 - val_loss: 0.4338 - val_accuracy: 0.8432\n",
            "Epoch 14/50\n",
            "13/14 [==========================>...] - ETA: 0s - loss: 0.0945 - accuracy: 0.9760\n",
            "Epoch 00014: val_loss did not improve from 0.43381\n",
            "14/14 [==============================] - 1s 67ms/step - loss: 0.0950 - accuracy: 0.9745 - val_loss: 0.5116 - val_accuracy: 0.8000\n",
            "Epoch 15/50\n",
            "13/14 [==========================>...] - ETA: 0s - loss: 0.0691 - accuracy: 0.9808\n",
            "Epoch 00015: val_loss improved from 0.43381 to 0.35006, saving model to checkpoint.ckpt\n",
            "14/14 [==============================] - 1s 77ms/step - loss: 0.0695 - accuracy: 0.9814 - val_loss: 0.3501 - val_accuracy: 0.8811\n",
            "Epoch 16/50\n",
            "13/14 [==========================>...] - ETA: 0s - loss: 0.0523 - accuracy: 0.9880\n",
            "Epoch 00016: val_loss did not improve from 0.35006\n",
            "14/14 [==============================] - 1s 68ms/step - loss: 0.0538 - accuracy: 0.9861 - val_loss: 0.6235 - val_accuracy: 0.7622\n",
            "Epoch 17/50\n",
            "13/14 [==========================>...] - ETA: 0s - loss: 0.0611 - accuracy: 0.9736\n",
            "Epoch 00017: val_loss did not improve from 0.35006\n",
            "14/14 [==============================] - 1s 68ms/step - loss: 0.0612 - accuracy: 0.9745 - val_loss: 1.1553 - val_accuracy: 0.7027\n",
            "Epoch 18/50\n",
            "13/14 [==========================>...] - ETA: 0s - loss: 0.0679 - accuracy: 0.9760\n",
            "Epoch 00018: val_loss did not improve from 0.35006\n",
            "14/14 [==============================] - 1s 68ms/step - loss: 0.0668 - accuracy: 0.9768 - val_loss: 1.0831 - val_accuracy: 0.7189\n",
            "Epoch 19/50\n",
            "13/14 [==========================>...] - ETA: 0s - loss: 0.0873 - accuracy: 0.9712\n",
            "Epoch 00019: val_loss did not improve from 0.35006\n",
            "14/14 [==============================] - 1s 67ms/step - loss: 0.0962 - accuracy: 0.9675 - val_loss: 0.5384 - val_accuracy: 0.8432\n",
            "Epoch 20/50\n",
            "13/14 [==========================>...] - ETA: 0s - loss: 0.1352 - accuracy: 0.9543\n",
            "Epoch 00020: val_loss did not improve from 0.35006\n",
            "14/14 [==============================] - 1s 67ms/step - loss: 0.1368 - accuracy: 0.9536 - val_loss: 1.1808 - val_accuracy: 0.6378\n",
            "Epoch 21/50\n",
            "13/14 [==========================>...] - ETA: 0s - loss: 0.1383 - accuracy: 0.9519\n",
            "Epoch 00021: val_loss did not improve from 0.35006\n",
            "14/14 [==============================] - 1s 67ms/step - loss: 0.1398 - accuracy: 0.9490 - val_loss: 0.7289 - val_accuracy: 0.7622\n",
            "Epoch 22/50\n",
            "13/14 [==========================>...] - ETA: 0s - loss: 0.0941 - accuracy: 0.9591\n",
            "Epoch 00022: val_loss did not improve from 0.35006\n",
            "14/14 [==============================] - 1s 68ms/step - loss: 0.1024 - accuracy: 0.9559 - val_loss: 0.5796 - val_accuracy: 0.8162\n",
            "Epoch 23/50\n",
            "13/14 [==========================>...] - ETA: 0s - loss: 0.0896 - accuracy: 0.9688\n",
            "Epoch 00023: val_loss did not improve from 0.35006\n",
            "14/14 [==============================] - 1s 68ms/step - loss: 0.0883 - accuracy: 0.9698 - val_loss: 0.6004 - val_accuracy: 0.8486\n",
            "Epoch 24/50\n",
            "13/14 [==========================>...] - ETA: 0s - loss: 0.0428 - accuracy: 0.9904\n",
            "Epoch 00024: val_loss did not improve from 0.35006\n",
            "14/14 [==============================] - 1s 67ms/step - loss: 0.0416 - accuracy: 0.9907 - val_loss: 0.7788 - val_accuracy: 0.8216\n",
            "Epoch 25/50\n",
            "13/14 [==========================>...] - ETA: 0s - loss: 0.0427 - accuracy: 0.9832\n",
            "Epoch 00025: val_loss did not improve from 0.35006\n",
            "14/14 [==============================] - 1s 68ms/step - loss: 0.0413 - accuracy: 0.9838 - val_loss: 0.4281 - val_accuracy: 0.8757\n"
          ]
        }
      ]
    },
    {
      "cell_type": "markdown",
      "source": [
        "#Load Model"
      ],
      "metadata": {
        "id": "0qtihQOVL_ip"
      }
    },
    {
      "cell_type": "code",
      "source": [
        "model_fi = cnn_model()\n",
        "model_fi.load_weights(filename)\n",
        "model_fi.compile(optimizer='adam', loss='sparse_categorical_crossentropy', metrics=['accuracy'])"
      ],
      "metadata": {
        "id": "BKGxiqTMe2Se"
      },
      "execution_count": 43,
      "outputs": []
    },
    {
      "cell_type": "code",
      "source": [
        "results = model_fi.evaluate(x_test, y_test)"
      ],
      "metadata": {
        "colab": {
          "base_uri": "https://localhost:8080/"
        },
        "id": "Wct1WJOD4uOW",
        "outputId": "08574919-3706-4be7-de18-80d5b9e08287"
      },
      "execution_count": 44,
      "outputs": [
        {
          "output_type": "stream",
          "name": "stdout",
          "text": [
            "3/3 [==============================] - 1s 17ms/step - loss: 0.7605 - accuracy: 0.7536\n"
          ]
        }
      ]
    },
    {
      "cell_type": "code",
      "source": [
        "print('test loss, test acc:', results)"
      ],
      "metadata": {
        "colab": {
          "base_uri": "https://localhost:8080/"
        },
        "id": "LuHBsYsk40Qt",
        "outputId": "f0f1238c-7069-4a34-ad8f-6f011c1b5033"
      },
      "execution_count": 45,
      "outputs": [
        {
          "output_type": "stream",
          "name": "stdout",
          "text": [
            "test loss, test acc: [0.7604793906211853, 0.7536231875419617]\n"
          ]
        }
      ]
    },
    {
      "cell_type": "code",
      "source": [
        "model_fi.summary()"
      ],
      "metadata": {
        "colab": {
          "base_uri": "https://localhost:8080/"
        },
        "id": "UGT-cZKhBqvQ",
        "outputId": "9814d474-6090-4103-d65a-676a460b0881"
      },
      "execution_count": 46,
      "outputs": [
        {
          "output_type": "stream",
          "name": "stdout",
          "text": [
            "Model: \"cnn_model_4\"\n",
            "_________________________________________________________________\n",
            " Layer (type)                Output Shape              Param #   \n",
            "=================================================================\n",
            " conv2d_24 (Conv2D)          multiple                  888       \n",
            "                                                                 \n",
            " max_pooling2d_4 (MaxPooling  multiple                 0         \n",
            " 2D)                                                             \n",
            "                                                                 \n",
            " conv2d_25 (Conv2D)          multiple                  4362      \n",
            "                                                                 \n",
            " batch_normalization_16 (Bat  multiple                 24        \n",
            " chNormalization)                                                \n",
            "                                                                 \n",
            " re_lu_16 (ReLU)             multiple                  0         \n",
            "                                                                 \n",
            " conv2d_26 (Conv2D)          multiple                  4362      \n",
            "                                                                 \n",
            " batch_normalization_17 (Bat  multiple                 24        \n",
            " chNormalization)                                                \n",
            "                                                                 \n",
            " re_lu_17 (ReLU)             multiple                  0         \n",
            "                                                                 \n",
            " add_8 (Add)                 multiple                  0         \n",
            "                                                                 \n",
            " conv2d_27 (Conv2D)          multiple                  8724      \n",
            "                                                                 \n",
            " batch_normalization_18 (Bat  multiple                 48        \n",
            " chNormalization)                                                \n",
            "                                                                 \n",
            " re_lu_18 (ReLU)             multiple                  0         \n",
            "                                                                 \n",
            " conv2d_28 (Conv2D)          multiple                  17436     \n",
            "                                                                 \n",
            " batch_normalization_19 (Bat  multiple                 48        \n",
            " chNormalization)                                                \n",
            "                                                                 \n",
            " re_lu_19 (ReLU)             multiple                  0         \n",
            "                                                                 \n",
            " conv2d_29 (Conv2D)          multiple                  84        \n",
            "                                                                 \n",
            " add_9 (Add)                 multiple                  0         \n",
            "                                                                 \n",
            " flatten_4 (Flatten)         multiple                  0         \n",
            "                                                                 \n",
            " dense_4 (Dense)             multiple                  49156     \n",
            "                                                                 \n",
            "=================================================================\n",
            "Total params: 85,156\n",
            "Trainable params: 85,084\n",
            "Non-trainable params: 72\n",
            "_________________________________________________________________\n"
          ]
        }
      ]
    },
    {
      "cell_type": "markdown",
      "source": [
        "#Train history Graph"
      ],
      "metadata": {
        "id": "YJhfS_c1MCTY"
      }
    },
    {
      "cell_type": "code",
      "source": [
        "import matplotlib.pyplot as plt\n",
        "plt.plot(history.history['accuracy'])\n",
        "plt.plot(history.history['val_accuracy'])\n",
        "plt.title('Model accuracy')\n",
        "plt.xlabel('Epoch')\n",
        "plt.ylabel('Accuracy')\n",
        "plt.legend(['Train', 'Val'], loc='upper left')\n",
        "plt.show()"
      ],
      "metadata": {
        "colab": {
          "base_uri": "https://localhost:8080/",
          "height": 295
        },
        "id": "xXQRwPTPmERI",
        "outputId": "5a8d3cef-80f4-441c-bceb-f1df1463bd68"
      },
      "execution_count": 36,
      "outputs": [
        {
          "output_type": "display_data",
          "data": {
            "image/png": "[encoded data removed]",
            "text/plain": [
              "<Figure size 432x288 with 1 Axes>"
            ]
          },
          "metadata": {
            "needs_background": "light"
          }
        }
      ]
    },
    {
      "cell_type": "code",
      "source": [
        "plt.plot(history.history['loss'])\n",
        "plt.plot(history.history['val_loss'])\n",
        "plt.title('Model loss')\n",
        "plt.xlabel('Epoch')\n",
        "plt.ylabel('Loss')\n",
        "plt.legend(['Train', 'Val'], loc='upper left')\n",
        "plt.show()"
      ],
      "metadata": {
        "colab": {
          "base_uri": "https://localhost:8080/",
          "height": 295
        },
        "id": "pty1MdeemRXA",
        "outputId": "61007a24-dba2-41f6-e971-b59ad1cdd6c4"
      },
      "execution_count": 37,
      "outputs": [
        {
          "output_type": "display_data",
          "data": {
            "image/png": "[encoded data removed]",
            "text/plain": [
              "<Figure size 432x288 with 1 Axes>"
            ]
          },
          "metadata": {
            "needs_background": "light"
          }
        }
      ]
    },
    {
      "cell_type": "markdown",
      "source": [
        "# Save model"
      ],
      "metadata": {
        "id": "4Xq4EREbMLy9"
      }
    },
    {
      "cell_type": "code",
      "source": [
        "model_fi.save(\"cnnmodel_220103_rev\")"
      ],
      "metadata": {
        "id": "6rbu_72pkdj1"
      },
      "execution_count": null,
      "outputs": []
    },
    {
      "cell_type": "markdown",
      "source": [
        "# Loading Model"
      ],
      "metadata": {
        "id": "ZUNXn0fOMNSR"
      }
    },
    {
      "cell_type": "code",
      "source": [
        "import tensorflow as tf\n",
        "import numpy as np\n",
        "import cv2"
      ],
      "metadata": {
        "id": "tWit0gdGpR_k"
      },
      "execution_count": null,
      "outputs": []
    },
    {
      "cell_type": "code",
      "source": [
        "from google.colab import drive\n",
        "drive.mount('/content/gdrive')"
      ],
      "metadata": {
        "colab": {
          "base_uri": "https://localhost:8080/"
        },
        "id": "P71fvuqppaC9",
        "outputId": "944d6810-ca6f-43bf-874a-25cd6b5b3ffe"
      },
      "execution_count": null,
      "outputs": [
        {
          "output_type": "stream",
          "name": "stdout",
          "text": [
            "Mounted at /content/gdrive\n"
          ]
        }
      ]
    },
    {
      "cell_type": "code",
      "source": [
        "cd gdrive/MyDrive/KT"
      ],
      "metadata": {
        "colab": {
          "base_uri": "https://localhost:8080/"
        },
        "id": "saz103-GpedR",
        "outputId": "407a2560-44c8-4d23-8da7-cb71bc2248d4"
      },
      "execution_count": null,
      "outputs": [
        {
          "output_type": "stream",
          "name": "stdout",
          "text": [
            "/content/gdrive/MyDrive/KT\n"
          ]
        }
      ]
    },
    {
      "cell_type": "code",
      "source": [
        "cnn_model = tf.keras.models.load_model(\"cnnmodel_211231_layer1_7_res_11\")"
      ],
      "metadata": {
        "id": "VjzHEZlgo49W"
      },
      "execution_count": 9,
      "outputs": []
    },
    {
      "cell_type": "code",
      "source": [
        "# test file\n",
        "file = \"GANned_image_1.jpg\""
      ],
      "metadata": {
        "id": "Cycr_bsaqUHv"
      },
      "execution_count": 10,
      "outputs": []
    },
    {
      "cell_type": "code",
      "source": [
        "img = np.array(np.array([cv2.resize(cv2.imread(file, cv2.IMREAD_COLOR), dsize=(256, 256),\n",
        "                                 interpolation=cv2.INTER_LINEAR).astype(np.float64)])) / (256.0)"
      ],
      "metadata": {
        "id": "6lB8t2G0pkTp"
      },
      "execution_count": 11,
      "outputs": []
    },
    {
      "cell_type": "code",
      "source": [
        "label = {0: \"Mountain\", 1:\"Ocean\", 2:\"Tower\", 3:\"Grass\"}"
      ],
      "metadata": {
        "id": "gF85HzrCqmlK"
      },
      "execution_count": 12,
      "outputs": []
    },
    {
      "cell_type": "code",
      "source": [
        "result = np.array(cnn_model(img))"
      ],
      "metadata": {
        "id": "h0FrCsxWsElo"
      },
      "execution_count": 13,
      "outputs": []
    },
    {
      "cell_type": "code",
      "source": [
        "# returning value\n",
        "probability = []"
      ],
      "metadata": {
        "id": "j6wWsv0OMfKs"
      },
      "execution_count": 14,
      "outputs": []
    },
    {
      "cell_type": "code",
      "source": [
        "for i in range(4):\n",
        "  probability.append([label[i], str(round(100* result[0][i], 2))])"
      ],
      "metadata": {
        "id": "BXhlVp7Rqxai"
      },
      "execution_count": 15,
      "outputs": []
    }
  ]
}