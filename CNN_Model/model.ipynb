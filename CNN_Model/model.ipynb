{
  "nbformat": 4,
  "nbformat_minor": 0,
  "metadata": {
    "colab": {
      "name": "model.ipynb",
      "provenance": [],
      "collapsed_sections": []
    },
    "kernelspec": {
      "name": "python3",
      "display_name": "Python 3"
    },
    "language_info": {
      "name": "python"
    },
    "accelerator": "GPU"
  },
  "cells": [
    {
      "cell_type": "markdown",
      "source": [
        "# Module Import\n",
        "## Module\n",
        "\n",
        "\n",
        "* numpy : ndarray\n",
        "* cv2 : image resize, 불러오기 등의 처리\n",
        "* glob : 디렉토리 파일 탐색\n",
        "* tensorflow : 모듈 설계\n",
        "* itertools : list iterate"
      ],
      "metadata": {
        "id": "_S3m2Ayl54DA"
      }
    },
    {
      "cell_type": "code",
      "execution_count": 1,
      "metadata": {
        "id": "oxye4JV62b0C"
      },
      "outputs": [],
      "source": [
        "import numpy as np\n",
        "import cv2\n",
        "import sys\n",
        "import os\n",
        "import glob\n",
        "import tensorflow as tf\n",
        "from tensorflow.keras import datasets, layers, models\n",
        "from tensorflow.keras.callbacks import ModelCheckpoint, EarlyStopping\n",
        "from itertools import chain, repeat, cycle\n",
        "from sklearn.model_selection import train_test_split"
      ]
    },
    {
      "cell_type": "markdown",
      "source": [
        "# Colab 드라이브 마운트\n",
        "##### 이후 $ cd gdrive/MyDrive/경로.. 로 기본 디렉토리 수정하여 사용\n",
        "##### 이미지 데이터를 가지고 와서 train data 라벨링 진행해야 함"
      ],
      "metadata": {
        "id": "cIeEwiRv6PfP"
      }
    },
    {
      "cell_type": "code",
      "source": [
        "from google.colab import drive\n",
        "drive.mount('/content/gdrive')"
      ],
      "metadata": {
        "colab": {
          "base_uri": "https://localhost:8080/"
        },
        "id": "ct7XkwXg3Q35",
        "outputId": "a914d9ee-eb5f-49f6-f013-667d4bf886d7"
      },
      "execution_count": 2,
      "outputs": [
        {
          "output_type": "stream",
          "name": "stdout",
          "text": [
            "Mounted at /content/gdrive\n"
          ]
        }
      ]
    },
    {
      "cell_type": "code",
      "source": [
        "cd gdrive/MyDrive/KT"
      ],
      "metadata": {
        "colab": {
          "base_uri": "https://localhost:8080/"
        },
        "id": "jUerRhDF4Vyv",
        "outputId": "9c96b2bf-48f2-4dfa-dea6-1559969769ad"
      },
      "execution_count": 3,
      "outputs": [
        {
          "output_type": "stream",
          "name": "stdout",
          "text": [
            "/content/gdrive/MyDrive/KT\n"
          ]
        }
      ]
    },
    {
      "cell_type": "markdown",
      "source": [
        "# 이미지 불러오기\n",
        "##### glob.glob(path) 함수 결과를 sort하여 img데이터 들어오는 순서 고정\n",
        "##### cv2.imread() 함수로 img를 읽어오게 됨\n",
        "  - cv2.IMREAD_COLOR : 컬러 이미지 불러올 때 쓰는 옵션\n",
        "##### cv2.resize() : 크기 조절\n",
        "  - dsize를 고정함으로써 원하는 크기로 불러온 이미지 데이터 수정 가능\n",
        "\n",
        "##### 256.0으로 나누어 float데이터 타입을 유지하면서 normalize\n",
        "\n",
        "\n",
        "\n"
      ],
      "metadata": {
        "id": "aaobow4Z6aq6"
      }
    },
    {
      "cell_type": "code",
      "source": [
        "# get img list from path\n",
        "image_folders = sorted(glob.glob(\"Image/*\"))"
      ],
      "metadata": {
        "id": "dk5R2eBZ2q25"
      },
      "execution_count": 4,
      "outputs": []
    },
    {
      "cell_type": "code",
      "source": [
        "image_folders.remove('Image/info')"
      ],
      "metadata": {
        "id": "-FqB1E2hxb5Y"
      },
      "execution_count": 5,
      "outputs": []
    },
    {
      "cell_type": "code",
      "source": [
        "files = []\n",
        "each_class_num = []\n",
        "for folder in image_folders:\n",
        "  temp = sorted(glob.glob(folder + \"/*.jpg\"))\n",
        "  temp.extend(sorted(glob.glob(folder + \"/*.png\")))\n",
        "  temp.extend(sorted(glob.glob(folder + \"/*.jpeg\")))\n",
        "  temp.extend(sorted(glob.glob(folder + \"/*.jfif\")))\n",
        "  files.extend(temp)\n",
        "  each_class_num.append(len(temp))"
      ],
      "metadata": {
        "id": "ceGn9zm94pFi"
      },
      "execution_count": 6,
      "outputs": []
    },
    {
      "cell_type": "code",
      "source": [
        "each_class_num"
      ],
      "metadata": {
        "colab": {
          "base_uri": "https://localhost:8080/"
        },
        "id": "3g7qW0KW2tJE",
        "outputId": "8fd66094-d592-4c2b-ee6e-89e4c192f286"
      },
      "execution_count": 7,
      "outputs": [
        {
          "output_type": "execute_result",
          "data": {
            "text/plain": [
              "[163, 201, 196, 204]"
            ]
          },
          "metadata": {},
          "execution_count": 7
        }
      ]
    },
    {
      "cell_type": "code",
      "source": [
        "# read image from files list & reshape\n",
        "# train_img shape : ( , 256, 256, 3)\n",
        "train_img = np.array(np.array([cv2.resize(cv2.imread(file, cv2.IMREAD_COLOR), dsize=(256, 256),\n",
        "                                 interpolation=cv2.INTER_LINEAR).astype(np.float64) for file in files]))"
      ],
      "metadata": {
        "id": "A9AX9HYa2tFU"
      },
      "execution_count": 8,
      "outputs": []
    },
    {
      "cell_type": "code",
      "source": [
        "image_num = train_img.shape[0]\n",
        "labels = 4\n",
        "train_label = np.array(list(chain.from_iterable((repeat(n, k) for (n, k) in zip(range(labels), each_class_num)))))"
      ],
      "metadata": {
        "id": "YoqgOQ91WL7z"
      },
      "execution_count": 9,
      "outputs": []
    },
    {
      "cell_type": "code",
      "source": [
        "print(train_img.shape)\n",
        "print(train_img[0].shape)\n",
        "print(train_label.shape)"
      ],
      "metadata": {
        "colab": {
          "base_uri": "https://localhost:8080/"
        },
        "id": "LpEZlnkQ2uiU",
        "outputId": "41e74928-1472-4475-804a-794ab44b076d"
      },
      "execution_count": 10,
      "outputs": [
        {
          "output_type": "stream",
          "name": "stdout",
          "text": [
            "(764, 256, 256, 3)\n",
            "(256, 256, 3)\n",
            "(764,)\n"
          ]
        }
      ]
    },
    {
      "cell_type": "code",
      "source": [
        "# normalize\n",
        "train_img = train_img / (256.0)"
      ],
      "metadata": {
        "id": "VplUw2wA2v2b"
      },
      "execution_count": 11,
      "outputs": []
    },
    {
      "cell_type": "code",
      "source": [
        "x_train, x_test, y_train, y_test = train_test_split(train_img, train_label, test_size=0.1, stratify=train_label, random_state=34)\n",
        "x_train, x_val, y_train, y_val = train_test_split(x_train, y_train, test_size=0.1, stratify=y_train, random_state=12)"
      ],
      "metadata": {
        "id": "ZgOhCJ3kzqW7"
      },
      "execution_count": 12,
      "outputs": []
    },
    {
      "cell_type": "code",
      "source": [
        "print(x_train.shape)\n",
        "print(y_train.shape)\n",
        "print(x_test.shape)\n",
        "print(y_test.shape)\n",
        "print(x_val.shape)\n",
        "print(y_val.shape)"
      ],
      "metadata": {
        "colab": {
          "base_uri": "https://localhost:8080/"
        },
        "id": "mTRfdCxD35zX",
        "outputId": "2ff4cc3a-51bf-4794-8928-6de4dff5176f"
      },
      "execution_count": 13,
      "outputs": [
        {
          "output_type": "stream",
          "name": "stdout",
          "text": [
            "(618, 256, 256, 3)\n",
            "(618,)\n",
            "(77, 256, 256, 3)\n",
            "(77,)\n",
            "(69, 256, 256, 3)\n",
            "(69,)\n"
          ]
        }
      ]
    },
    {
      "cell_type": "markdown",
      "source": [
        "# Model Architecture\n",
        "\n",
        "**코드가 조금 더러움 주의**\n",
        "\n",
        "기본적으로 ResNet의 구조를 가지고 있는 NN으로 구성\n",
        "## Hyperparameters\n",
        "##### **수정 불가능한 hyperparameter**\n",
        "  - input_img_shape : 256*256으로 고정\n",
        "  - input_channel : RGB 3채널 이미지\n",
        "\n",
        "##### **수정 가능한 hyperparmeter**\n",
        "  - layer1_output_channel : layer1 의 output channel개수\n",
        "  - layer1_kernel_size : ResNet 처음 conv kernel_size는 7*7 이용\n",
        "  - layer2_output_channel : layer2 의 output channel개수 (== layer1_output_channel)\n",
        "  - layer3_output_channel : layer3 의 output channel개수 (layer2_output_channel * 2)\n",
        "  - res_kernel_size : resNet에서는 기본적으로 첫번째 conv 제외 3*3 kernel로 고정\n",
        "\n",
        "## Layers\n",
        "1. layer1 : convolution + pooling\n",
        "2. layer2 : conv + norm + relu + conv + norm + relu + add\n",
        "3. layer3 : conv + norm + relu + conv + norm + relu + identity + add\n",
        "4. flatten : 분류기에 넣기 위해 flatten진행\n",
        "5. classifier : 분류기, FC layer이용, ResNet에서는 FC layer의 Weight개수가 많으므로 한개의 FC layer만 사용\n",
        "\n",
        "### 1*1 Convolution\n",
        "layer2에서 사용하는 res_unit2의 경우, 이미지 데이터가 들어갈 때 layer2_output_channel개로 들어가지만, 나올 때 layer3_output_channel로 나오게 되는데, channel개수를 맞추어주기 위해서 convolution진행.\n",
        "이미지 크기도 res_unit2의 첫번째 convolution에서 stride (2, 2)로 진행하므로 반으로 줄어들게 되므로 1*1 convolution도 stride (2, 2)로 진행"
      ],
      "metadata": {
        "id": "9fonqlP-7Oat"
      }
    },
    {
      "cell_type": "code",
      "source": [
        "# Hyperparameters\n",
        "global input_img_shape, input_channel, layer1_output_channel, layer1_kernel_size, res_kernel_size, layer2_output_channel, layer3_output_channel\n",
        "input_img_shape = (256, 256, 3)\n",
        "input_channel = 3\n",
        "layer1_output_channel = 6\n",
        "layer1_kernel_size = (7, 7)\n",
        "layer2_output_channel = 6\n",
        "layer3_output_channel = 12\n",
        "\n",
        "# overall residual units num = num_residual_units * num_residual_layers \n",
        "res_kernel_size = (11, 11)"
      ],
      "metadata": {
        "id": "83CKVEPeR1TD"
      },
      "execution_count": 75,
      "outputs": []
    },
    {
      "cell_type": "code",
      "source": [
        "from tensorflow.python.keras.activations import softmax\n",
        "class cnn_model(tf.keras.Model):\n",
        "  global input_img_shape, input_channel, layer1_output_channel, layer1_kernel_size, res_kernel_size, layer2_output_channel, layer3_output_channel\n",
        "  def __init__(self):\n",
        "    super(cnn_model, self).__init__()\n",
        "    \n",
        "    self.conv1 = layers.Conv2D(layer1_output_channel, layer1_kernel_size, strides=(2, 2), \n",
        "                       padding='same', input_shape=input_img_shape, activation='relu')\n",
        "    self.pool1 = layers.MaxPool2D(pool_size=(2, 2))\n",
        "    self.conv2_t = layers.Conv2D(layer2_output_channel, res_kernel_size, padding='same')\n",
        "    self.batchnorm1 = layers.BatchNormalization()\n",
        "    self.relu1 = layers.ReLU()\n",
        "    self.conv2 = layers.Conv2D(layer2_output_channel, res_kernel_size, padding='same')\n",
        "    self.batchnorm2 = layers.BatchNormalization()\n",
        "    self.relu2 = layers.ReLU()\n",
        "    self.add1 = layers.Add()\n",
        "    \n",
        "    self.conv3 = layers.Conv2D(layer3_output_channel, res_kernel_size, strides=(2, 2), padding='same')\n",
        "    self.batchnorm3 = layers.BatchNormalization()\n",
        "    self.relu3 = layers.ReLU()\n",
        "    \n",
        "    self.conv4 = layers.Conv2D(layer3_output_channel, res_kernel_size, padding='same')\n",
        "    self.batchnorm4 = layers.BatchNormalization()\n",
        "    self.relu4 = layers.ReLU()\n",
        "    self.identity1 = layers.Conv2D(layer3_output_channel, (1, 1), padding='same', strides=(2, 2))\n",
        "    self.add2 = layers.Add()\n",
        "\n",
        "    self.flat = layers.Flatten()\n",
        "    self.fc1 = layers.Dense(4)\n",
        "\n",
        "  def call(self, x):\n",
        "    x = self.conv1(x)\n",
        "    x = self.pool1(x)\n",
        "    x_t = self.conv2_t(x)\n",
        "    x_t = self.batchnorm1(x_t)\n",
        "    x_t = self.relu1(x_t)\n",
        "    x_t = self.conv2(x_t)\n",
        "    x_t = self.batchnorm2(x_t)\n",
        "    x_t = self.relu2(x_t)\n",
        "    x = self.add1([x, x_t])\n",
        "    #print(x.shape)\n",
        "    x_t = self.conv3(x)\n",
        "    x_t = self.batchnorm3(x_t)\n",
        "    x_t = self.relu3(x_t)\n",
        "    x_t = self.conv4(x_t)\n",
        "    x_t = self.batchnorm4(x_t)\n",
        "    x_t = self.relu4(x_t)\n",
        "    x = self.identity1(x)\n",
        "    x = self.add2([x, x_t])\n",
        "\n",
        "    x = self.flat(x)\n",
        "    x = self.fc1(x)\n",
        "    probs = softmax(x)\n",
        "    return probs"
      ],
      "metadata": {
        "id": "892Gl70xF178"
      },
      "execution_count": 76,
      "outputs": []
    },
    {
      "cell_type": "code",
      "source": [
        "model = cnn_model()"
      ],
      "metadata": {
        "id": "m_F-B1R6A2g8"
      },
      "execution_count": 77,
      "outputs": []
    },
    {
      "cell_type": "markdown",
      "source": [
        "model optimizer, loss등 정의 compile"
      ],
      "metadata": {
        "id": "Ct65qbqsyrX9"
      }
    },
    {
      "cell_type": "code",
      "source": [
        "model.compile(optimizer='adam', loss='sparse_categorical_crossentropy', metrics=['accuracy'])"
      ],
      "metadata": {
        "id": "L8gudp5MT9Y7"
      },
      "execution_count": 78,
      "outputs": []
    },
    {
      "cell_type": "markdown",
      "source": [
        "train"
      ],
      "metadata": {
        "id": "sT8fbjD4yxjs"
      }
    },
    {
      "cell_type": "code",
      "source": [
        "# Train Hyperparameters\n",
        "epoch = 50\n",
        "batch = 10"
      ],
      "metadata": {
        "id": "v6KAI2UG4gl8"
      },
      "execution_count": 79,
      "outputs": []
    },
    {
      "cell_type": "code",
      "source": [
        "print(x_train.shape)\n",
        "print(y_train.shape)\n",
        "print(x_test.shape)\n",
        "print(y_test.shape)\n",
        "print(x_val.shape)\n",
        "print(y_val.shape)"
      ],
      "metadata": {
        "colab": {
          "base_uri": "https://localhost:8080/"
        },
        "id": "wEFStN575NmW",
        "outputId": "5b561491-299e-41a5-e2ed-c39c8c43c13a"
      },
      "execution_count": 80,
      "outputs": [
        {
          "output_type": "stream",
          "name": "stdout",
          "text": [
            "(618, 256, 256, 3)\n",
            "(618,)\n",
            "(77, 256, 256, 3)\n",
            "(77,)\n",
            "(69, 256, 256, 3)\n",
            "(69,)\n"
          ]
        }
      ]
    },
    {
      "cell_type": "code",
      "source": [
        "filename = 'checkpoint.ckpt'\n",
        "checkpoint = ModelCheckpoint(filename, monitor='val_loss', verbose=1, save_best_only=True, save_weights_only=True)\n",
        "earlystopping = EarlyStopping(monitor='val_loss', patience=10)\n",
        "# , callbacks=[checkpoint, earlystopping]"
      ],
      "metadata": {
        "id": "kYyYZywR5vYQ"
      },
      "execution_count": 81,
      "outputs": []
    },
    {
      "cell_type": "code",
      "source": [
        "history = model.fit(x_train, y_train, epochs=epoch, validation_data=(x_val, y_val) , callbacks=[checkpoint, earlystopping])"
      ],
      "metadata": {
        "colab": {
          "base_uri": "https://localhost:8080/"
        },
        "id": "QZXKBeRnUNTu",
        "outputId": "19fef638-b874-4f47-90dd-eef3551b97a1"
      },
      "execution_count": 82,
      "outputs": [
        {
          "output_type": "stream",
          "name": "stdout",
          "text": [
            "Epoch 1/50\n",
            "20/20 [==============================] - ETA: 0s - loss: 1.8415 - accuracy: 0.4919\n",
            "Epoch 00001: val_loss improved from inf to 3.45364, saving model to checkpoint.ckpt\n",
            "20/20 [==============================] - 3s 90ms/step - loss: 1.8415 - accuracy: 0.4919 - val_loss: 3.4536 - val_accuracy: 0.2609\n",
            "Epoch 2/50\n",
            "19/20 [===========================>..] - ETA: 0s - loss: 0.8015 - accuracy: 0.7122\n",
            "Epoch 00002: val_loss improved from 3.45364 to 2.40704, saving model to checkpoint.ckpt\n",
            "20/20 [==============================] - 1s 65ms/step - loss: 0.8015 - accuracy: 0.7136 - val_loss: 2.4070 - val_accuracy: 0.2609\n",
            "Epoch 3/50\n",
            "19/20 [===========================>..] - ETA: 0s - loss: 0.7847 - accuracy: 0.7467\n",
            "Epoch 00003: val_loss improved from 2.40704 to 1.15424, saving model to checkpoint.ckpt\n",
            "20/20 [==============================] - 1s 65ms/step - loss: 0.7845 - accuracy: 0.7460 - val_loss: 1.1542 - val_accuracy: 0.4928\n",
            "Epoch 4/50\n",
            "19/20 [===========================>..] - ETA: 0s - loss: 0.5973 - accuracy: 0.7928\n",
            "Epoch 00004: val_loss did not improve from 1.15424\n",
            "20/20 [==============================] - 1s 59ms/step - loss: 0.5896 - accuracy: 0.7961 - val_loss: 2.2802 - val_accuracy: 0.3188\n",
            "Epoch 5/50\n",
            "19/20 [===========================>..] - ETA: 0s - loss: 0.4221 - accuracy: 0.8470\n",
            "Epoch 00005: val_loss did not improve from 1.15424\n",
            "20/20 [==============================] - 1s 60ms/step - loss: 0.4236 - accuracy: 0.8463 - val_loss: 1.2627 - val_accuracy: 0.5072\n",
            "Epoch 6/50\n",
            "19/20 [===========================>..] - ETA: 0s - loss: 0.3664 - accuracy: 0.8668\n",
            "Epoch 00006: val_loss did not improve from 1.15424\n",
            "20/20 [==============================] - 1s 60ms/step - loss: 0.3612 - accuracy: 0.8689 - val_loss: 1.2776 - val_accuracy: 0.5652\n",
            "Epoch 7/50\n",
            "19/20 [===========================>..] - ETA: 0s - loss: 0.3328 - accuracy: 0.8701\n",
            "Epoch 00007: val_loss did not improve from 1.15424\n",
            "20/20 [==============================] - 1s 61ms/step - loss: 0.3297 - accuracy: 0.8706 - val_loss: 1.1975 - val_accuracy: 0.7246\n",
            "Epoch 8/50\n",
            "19/20 [===========================>..] - ETA: 0s - loss: 0.2565 - accuracy: 0.9030\n",
            "Epoch 00008: val_loss did not improve from 1.15424\n",
            "20/20 [==============================] - 1s 60ms/step - loss: 0.2558 - accuracy: 0.9029 - val_loss: 3.3714 - val_accuracy: 0.3623\n",
            "Epoch 9/50\n",
            "19/20 [===========================>..] - ETA: 0s - loss: 0.2062 - accuracy: 0.9161\n",
            "Epoch 00009: val_loss improved from 1.15424 to 1.06425, saving model to checkpoint.ckpt\n",
            "20/20 [==============================] - 1s 65ms/step - loss: 0.2173 - accuracy: 0.9142 - val_loss: 1.0642 - val_accuracy: 0.6232\n",
            "Epoch 10/50\n",
            "19/20 [===========================>..] - ETA: 0s - loss: 0.2004 - accuracy: 0.9194\n",
            "Epoch 00010: val_loss did not improve from 1.06425\n",
            "20/20 [==============================] - 1s 60ms/step - loss: 0.1973 - accuracy: 0.9207 - val_loss: 2.4801 - val_accuracy: 0.4638\n",
            "Epoch 11/50\n",
            "19/20 [===========================>..] - ETA: 0s - loss: 0.2188 - accuracy: 0.9243\n",
            "Epoch 00011: val_loss improved from 1.06425 to 1.05965, saving model to checkpoint.ckpt\n",
            "20/20 [==============================] - 1s 65ms/step - loss: 0.2180 - accuracy: 0.9239 - val_loss: 1.0596 - val_accuracy: 0.7101\n",
            "Epoch 12/50\n",
            "19/20 [===========================>..] - ETA: 0s - loss: 0.1811 - accuracy: 0.9441\n",
            "Epoch 00012: val_loss improved from 1.05965 to 0.54286, saving model to checkpoint.ckpt\n",
            "20/20 [==============================] - 1s 67ms/step - loss: 0.2009 - accuracy: 0.9401 - val_loss: 0.5429 - val_accuracy: 0.8261\n",
            "Epoch 13/50\n",
            "19/20 [===========================>..] - ETA: 0s - loss: 0.3424 - accuracy: 0.8914\n",
            "Epoch 00013: val_loss did not improve from 0.54286\n",
            "20/20 [==============================] - 1s 60ms/step - loss: 0.3457 - accuracy: 0.8900 - val_loss: 0.7953 - val_accuracy: 0.7971\n",
            "Epoch 14/50\n",
            "19/20 [===========================>..] - ETA: 0s - loss: 0.2763 - accuracy: 0.9128\n",
            "Epoch 00014: val_loss did not improve from 0.54286\n",
            "20/20 [==============================] - 1s 60ms/step - loss: 0.2737 - accuracy: 0.9126 - val_loss: 1.3242 - val_accuracy: 0.6667\n",
            "Epoch 15/50\n",
            "19/20 [===========================>..] - ETA: 0s - loss: 0.0963 - accuracy: 0.9605\n",
            "Epoch 00015: val_loss did not improve from 0.54286\n",
            "20/20 [==============================] - 1s 60ms/step - loss: 0.0961 - accuracy: 0.9612 - val_loss: 0.8966 - val_accuracy: 0.7971\n",
            "Epoch 16/50\n",
            "19/20 [===========================>..] - ETA: 0s - loss: 0.0516 - accuracy: 0.9836\n",
            "Epoch 00016: val_loss did not improve from 0.54286\n",
            "20/20 [==============================] - 1s 62ms/step - loss: 0.0508 - accuracy: 0.9838 - val_loss: 0.9883 - val_accuracy: 0.7681\n",
            "Epoch 17/50\n",
            "19/20 [===========================>..] - ETA: 0s - loss: 0.0467 - accuracy: 0.9786\n",
            "Epoch 00017: val_loss did not improve from 0.54286\n",
            "20/20 [==============================] - 1s 60ms/step - loss: 0.0465 - accuracy: 0.9790 - val_loss: 0.8223 - val_accuracy: 0.8116\n",
            "Epoch 18/50\n",
            "19/20 [===========================>..] - ETA: 0s - loss: 0.0268 - accuracy: 0.9934\n",
            "Epoch 00018: val_loss did not improve from 0.54286\n",
            "20/20 [==============================] - 1s 59ms/step - loss: 0.0284 - accuracy: 0.9919 - val_loss: 0.8953 - val_accuracy: 0.7681\n",
            "Epoch 19/50\n",
            "19/20 [===========================>..] - ETA: 0s - loss: 0.0331 - accuracy: 0.9918\n",
            "Epoch 00019: val_loss did not improve from 0.54286\n",
            "20/20 [==============================] - 1s 60ms/step - loss: 0.0362 - accuracy: 0.9903 - val_loss: 0.8210 - val_accuracy: 0.8406\n",
            "Epoch 20/50\n",
            "19/20 [===========================>..] - ETA: 0s - loss: 0.0357 - accuracy: 0.9852\n",
            "Epoch 00020: val_loss did not improve from 0.54286\n",
            "20/20 [==============================] - 1s 59ms/step - loss: 0.0352 - accuracy: 0.9854 - val_loss: 0.8507 - val_accuracy: 0.8116\n",
            "Epoch 21/50\n",
            "19/20 [===========================>..] - ETA: 0s - loss: 0.0216 - accuracy: 0.9934\n",
            "Epoch 00021: val_loss did not improve from 0.54286\n",
            "20/20 [==============================] - 1s 58ms/step - loss: 0.0221 - accuracy: 0.9935 - val_loss: 0.6719 - val_accuracy: 0.8841\n",
            "Epoch 22/50\n",
            "19/20 [===========================>..] - ETA: 0s - loss: 0.0130 - accuracy: 0.9967\n",
            "Epoch 00022: val_loss did not improve from 0.54286\n",
            "20/20 [==============================] - 1s 61ms/step - loss: 0.0130 - accuracy: 0.9968 - val_loss: 1.0562 - val_accuracy: 0.7971\n"
          ]
        }
      ]
    },
    {
      "cell_type": "code",
      "source": [
        "model_fi = cnn_model()\n",
        "model_fi.load_weights(filename)\n",
        "model_fi.compile(optimizer='adam', loss='sparse_categorical_crossentropy', metrics=['accuracy'])"
      ],
      "metadata": {
        "id": "BKGxiqTMe2Se"
      },
      "execution_count": 83,
      "outputs": []
    },
    {
      "cell_type": "code",
      "source": [
        "results = model_fi.evaluate(x_test, y_test)"
      ],
      "metadata": {
        "colab": {
          "base_uri": "https://localhost:8080/"
        },
        "id": "Wct1WJOD4uOW",
        "outputId": "07e43348-6bc6-4d95-cc8c-67c27f11a6c1"
      },
      "execution_count": 84,
      "outputs": [
        {
          "output_type": "stream",
          "name": "stdout",
          "text": [
            "3/3 [==============================] - 1s 61ms/step - loss: 0.4161 - accuracy: 0.8442\n"
          ]
        }
      ]
    },
    {
      "cell_type": "code",
      "source": [
        "print('test loss, test acc:', results)"
      ],
      "metadata": {
        "colab": {
          "base_uri": "https://localhost:8080/"
        },
        "id": "LuHBsYsk40Qt",
        "outputId": "1600f8d8-1e0b-480a-82d0-d162ad92ebfa"
      },
      "execution_count": 85,
      "outputs": [
        {
          "output_type": "stream",
          "name": "stdout",
          "text": [
            "test loss, test acc: [0.4161078631877899, 0.8441558480262756]\n"
          ]
        }
      ]
    },
    {
      "cell_type": "code",
      "source": [
        "import matplotlib.pyplot as plt\n",
        "plt.plot(history.history['accuracy'])\n",
        "plt.plot(history.history['val_accuracy'])\n",
        "plt.title('Model accuracy')\n",
        "plt.xlabel('Epoch')\n",
        "plt.ylabel('Accuracy')\n",
        "plt.legend(['Train', 'Val'], loc='upper left')\n",
        "plt.show()"
      ],
      "metadata": {
        "colab": {
          "base_uri": "https://localhost:8080/",
          "height": 294
        },
        "id": "xXQRwPTPmERI",
        "outputId": "3b1d3452-986a-4e39-b1cd-430a4b6df3ab"
      },
      "execution_count": 86,
      "outputs": [
        {
          "output_type": "display_data",
          "data": {
            "image/png": "[encoded data removed]",
            "text/plain": [
              "<Figure size 432x288 with 1 Axes>"
            ]
          },
          "metadata": {
            "needs_background": "light"
          }
        }
      ]
    },
    {
      "cell_type": "code",
      "source": [
        "plt.plot(history.history['loss'])\n",
        "plt.plot(history.history['val_loss'])\n",
        "plt.title('Model loss')\n",
        "plt.xlabel('Epoch')\n",
        "plt.ylabel('Loss')\n",
        "plt.legend(['Train', 'Val'], loc='upper left')\n",
        "plt.show()"
      ],
      "metadata": {
        "colab": {
          "base_uri": "https://localhost:8080/",
          "height": 294
        },
        "id": "pty1MdeemRXA",
        "outputId": "576b19e1-f381-4a98-e1b1-f7923b1d9247"
      },
      "execution_count": 87,
      "outputs": [
        {
          "output_type": "display_data",
          "data": {
            "image/png": "[encoded data removed]",
            "text/plain": [
              "<Figure size 432x288 with 1 Axes>"
            ]
          },
          "metadata": {
            "needs_background": "light"
          }
        }
      ]
    },
    {
      "cell_type": "code",
      "source": [
        "model_fi.summary()"
      ],
      "metadata": {
        "colab": {
          "base_uri": "https://localhost:8080/"
        },
        "id": "UGT-cZKhBqvQ",
        "outputId": "6231fa5d-01cc-4f93-f88a-f3285dda83a3"
      },
      "execution_count": 25,
      "outputs": [
        {
          "output_type": "stream",
          "name": "stdout",
          "text": [
            "Model: \"cnn_model_1\"\n",
            "_________________________________________________________________\n",
            " Layer (type)                Output Shape              Param #   \n",
            "=================================================================\n",
            " conv2d_6 (Conv2D)           multiple                  888       \n",
            "                                                                 \n",
            " max_pooling2d_1 (MaxPooling  multiple                 0         \n",
            " 2D)                                                             \n",
            "                                                                 \n",
            " conv2d_7 (Conv2D)           multiple                  8106      \n",
            "                                                                 \n",
            " batch_normalization_4 (Batc  multiple                 24        \n",
            " hNormalization)                                                 \n",
            "                                                                 \n",
            " re_lu_4 (ReLU)              multiple                  0         \n",
            "                                                                 \n",
            " conv2d_8 (Conv2D)           multiple                  8106      \n",
            "                                                                 \n",
            " batch_normalization_5 (Batc  multiple                 24        \n",
            " hNormalization)                                                 \n",
            "                                                                 \n",
            " re_lu_5 (ReLU)              multiple                  0         \n",
            "                                                                 \n",
            " add_2 (Add)                 multiple                  0         \n",
            "                                                                 \n",
            " conv2d_9 (Conv2D)           multiple                  16212     \n",
            "                                                                 \n",
            " batch_normalization_6 (Batc  multiple                 48        \n",
            " hNormalization)                                                 \n",
            "                                                                 \n",
            " re_lu_6 (ReLU)              multiple                  0         \n",
            "                                                                 \n",
            " conv2d_10 (Conv2D)          multiple                  32412     \n",
            "                                                                 \n",
            " batch_normalization_7 (Batc  multiple                 48        \n",
            " hNormalization)                                                 \n",
            "                                                                 \n",
            " re_lu_7 (ReLU)              multiple                  0         \n",
            "                                                                 \n",
            " conv2d_11 (Conv2D)          multiple                  84        \n",
            "                                                                 \n",
            " add_3 (Add)                 multiple                  0         \n",
            "                                                                 \n",
            " flatten_1 (Flatten)         multiple                  0         \n",
            "                                                                 \n",
            " dense_1 (Dense)             multiple                  49156     \n",
            "                                                                 \n",
            "=================================================================\n",
            "Total params: 115,108\n",
            "Trainable params: 115,036\n",
            "Non-trainable params: 72\n",
            "_________________________________________________________________\n"
          ]
        }
      ]
    },
    {
      "cell_type": "code",
      "source": [
        "model_fi(x_train[13].reshape(1, 256, 256, 3))"
      ],
      "metadata": {
        "colab": {
          "base_uri": "https://localhost:8080/"
        },
        "id": "a3iUW6pJ0mlf",
        "outputId": "4b14b3d6-1f0a-404d-e081-1dff89a62378"
      },
      "execution_count": 61,
      "outputs": [
        {
          "output_type": "execute_result",
          "data": {
            "text/plain": [
              "<tf.Tensor: shape=(1, 4), dtype=float32, numpy=\n",
              "array([[9.9999940e-01, 9.7957304e-09, 1.5824103e-08, 6.1920230e-07]],\n",
              "      dtype=float32)>"
            ]
          },
          "metadata": {},
          "execution_count": 61
        }
      ]
    },
    {
      "cell_type": "code",
      "source": [
        "y_train[13]"
      ],
      "metadata": {
        "colab": {
          "base_uri": "https://localhost:8080/"
        },
        "id": "hiEtesX_1vdF",
        "outputId": "736d7c96-7af5-4be6-bcf3-f037e5672741"
      },
      "execution_count": 60,
      "outputs": [
        {
          "output_type": "execute_result",
          "data": {
            "text/plain": [
              "0"
            ]
          },
          "metadata": {},
          "execution_count": 60
        }
      ]
    },
    {
      "cell_type": "code",
      "source": [
        "model.save(\"cnnmodel_211230\")"
      ],
      "metadata": {
        "id": "6rbu_72pkdj1",
        "colab": {
          "base_uri": "https://localhost:8080/"
        },
        "outputId": "da6ea981-1870-48de-80c0-7ca6518a48d2"
      },
      "execution_count": 28,
      "outputs": [
        {
          "output_type": "stream",
          "name": "stdout",
          "text": [
            "INFO:tensorflow:Assets written to: cnnmodel_211230/assets\n"
          ]
        },
        {
          "output_type": "stream",
          "name": "stderr",
          "text": [
            "/usr/local/lib/python3.7/dist-packages/keras/saving/saved_model/layer_serialization.py:112: CustomMaskWarning: Custom mask layers require a config and must override get_config. When loading, the custom mask layer must be passed to the custom_objects argument.\n",
            "  return generic_utils.serialize_keras_object(obj)\n"
          ]
        }
      ]
    },
    {
      "cell_type": "markdown",
      "source": [
        "#Dump"
      ],
      "metadata": {
        "id": "lwMfA7Rdyzm-"
      }
    },
    {
      "cell_type": "code",
      "source": [
        "model(train_img)"
      ],
      "metadata": {
        "id": "xU5fCSjdBkgP"
      },
      "execution_count": null,
      "outputs": []
    },
    {
      "cell_type": "code",
      "source": [
        "# def residual_unit(self, x, in_channel, out_channel, kernel_size):\n",
        "  #   if in_channel == out_channel:\n",
        "  #     res1 = layers.Conv2D(out_channel, kernel_size, padding='same', strides=(1, 1))\n",
        "  #   else:\n",
        "  #     res1 = layers.Conv2D(out_channel, kernel_size, padding='same', strides=(2, 2))\n",
        "  #   batch1 = layers.BatchNormalization()\n",
        "  #   relu1 = layers.ReLU()\n",
        "  #   res2 = layers.Conv2D(out_channel, kernel_size, padding='same')\n",
        "  #   batch2 = layers.BatchNormalization()\n",
        "  #   relu2 = layers.ReLU()\n",
        "\n",
        "  #   x_t = res1(x)\n",
        "  #   x_t = batch1(x_t)\n",
        "  #   x_t = relu1(x_t)\n",
        "  #   x_t = res2(x_t)\n",
        "  #   x_t = batch2(x_t)\n",
        "  #   x_t = relu2(x_t)\n",
        "\n",
        "  #   if in_channel != out_channel:\n",
        "  #     identity = layers.Conv2D(out_channel, (1, 1), padding='same', strides=(2, 2))\n",
        "  #     x = identity(x)\n",
        "  #   print(x_t.shape)\n",
        "  #   print(x.shape)\n",
        "  #   return x_t + x\n",
        "\n",
        "  # channels = x.shape[3]\n",
        "    # for l in range(self.num_residual_layers):\n",
        "    #   for u in range(self.num_residual_units):\n",
        "    #     x = self.residual_unit(x, channels, (lambda x,y:channels*2 if x != 0 and y == 0 else channels)(l, u), self.res_kernel_size)\n",
        "    #     channels = channels * 2 if l != 0 and u == 0 else channels"
      ],
      "metadata": {
        "id": "MMhj8WxlrPaS"
      },
      "execution_count": null,
      "outputs": []
    },
    {
      "cell_type": "code",
      "source": [
        "# model\n",
        "model = models.Sequential()\n",
        "model.add(layers.Conv2D(32, (3, 3), activation='relu', input_shape = (256, 256, 3)))\n",
        "model.add(layers.MaxPooling2D((2, 2)))\n",
        "model.add(layers.Conv2D(64, (3, 3), activation='relu'))\n",
        "model.add(layers.MaxPooling2D((2, 2)))\n",
        "model.add(layers.Conv2D(64, (3, 3), activation='relu'))"
      ],
      "metadata": {
        "id": "MYpwDLKG2xdk"
      },
      "execution_count": null,
      "outputs": []
    },
    {
      "cell_type": "code",
      "source": [
        "model.add(layers.Flatten())\n",
        "model.add(layers.Dense(64, activation='relu'))\n",
        "model.add(layers.Dense(10, activation='softmax'))"
      ],
      "metadata": {
        "id": "5xgtV31q2yz_"
      },
      "execution_count": null,
      "outputs": []
    },
    {
      "cell_type": "code",
      "source": [
        "# model information\n",
        "model.summary()"
      ],
      "metadata": {
        "id": "4zYxbpLf2z_A"
      },
      "execution_count": null,
      "outputs": []
    },
    {
      "cell_type": "code",
      "source": [
        "#model.compile(optimizer='adam', loss='sparse_categorical_crossentropy', metrics=['accuracy'])\n",
        "#print(model(train_img))"
      ],
      "metadata": {
        "id": "IZ_O3u7E21Iu"
      },
      "execution_count": null,
      "outputs": []
    },
    {
      "cell_type": "code",
      "source": [
        "# in_channel : input image channel size, out_channel : output image channel of each unit\n",
        "# kernel_size  ex) (3, 3), (5, 5), ..\n",
        "class ResidualUnit(tf.keras.Model):\n",
        "  def __init__(self, in_channel, out_channel, kernel_size, stride=False):\n",
        "    super(ResidualUnit, self).__init__()\n",
        "    if stride:\n",
        "      self.conv1 = layers.Conv2D(out_channel, kernel_size, padding='same', activation='relu', stride=(2, 2))\n",
        "    else:\n",
        "      self.conv1 = layers.Conv2D(out_channel, kernel_size, padding='same', activation='relu')\n",
        "    self.conv2 = layers.Conv2D(out_channel, kernel_size, padding='same', activation='relu')\n",
        "\n",
        "    if in_channel ==  out_channel:\n",
        "      self.identity = lambda x: x\n",
        "    else:\n",
        "      self.identity = layers.Conv2D(out_channel, (1, 1), padding='same')\n",
        "\n",
        "  def call(self, x):\n",
        "    x = self.conv1(x)\n",
        "    x = self.conv2(x)\n",
        "    return x + self.identity(x)"
      ],
      "metadata": {
        "id": "q6_lrtijI7uk"
      },
      "execution_count": null,
      "outputs": []
    },
    {
      "cell_type": "code",
      "source": [
        "class ResidualLayer(tf.keras.Model):\n",
        "  def __init__(self, in_channel, out_channel, kernel_size, stride=False):\n",
        "    super(ResidualLayer, self).__init__()\n",
        "    # residualunit + unit + unit\n",
        "    self.res1 = ResidualUnit(in_channel, out_channel, kernel_size, stride)\n",
        "    self.res2 = ResidualUnit(out_channel, out_channel, kernel_size)\n",
        "    self.res3 = ResidualUnit(out_channel, out_channel, kernel_size)\n",
        "  \n",
        "  def call(self, x):\n",
        "    x = self.res1(x)\n",
        "    x = self.res2(x)\n",
        "    x = self.res3(x)\n",
        "    return x"
      ],
      "metadata": {
        "id": "15UEkr_7NJtK"
      },
      "execution_count": null,
      "outputs": []
    },
    {
      "cell_type": "code",
      "source": [
        "from tensorflow.python.keras.activations import softmax\n",
        "model = models.Sequential()\n",
        "model.add(layers.Conv2D(layer1_output_channel, (11, 11), activation='relu', input_shape = (256, 256, 3)))\n",
        "model.add(layers.MaxPooling2D((2, 2)))\n",
        "model.add(layers.Conv2D(layer2_output_channel, (7, 7), activation='relu'))\n",
        "model.add(layers.MaxPooling2D((2, 2)))\n",
        "#model.add(layers.Conv2D(layer3_output_channel, (7, 7), activation='relu'))\n",
        "model.add(layers.Flatten())\n",
        "model.add(layers.Dense(4, activation='softmax'))"
      ],
      "metadata": {
        "id": "w-0NYFJ_O4lk"
      },
      "execution_count": null,
      "outputs": []
    },
    {
      "cell_type": "code",
      "source": [
        "from tensorflow.python.keras.activations import softmax\n",
        "class cnn_model(tf.keras.Model):\n",
        "  global input_img_shape, input_channel, layer1_output_channel, layer1_kernel_size, res_kernel_size, layer2_output_channel, layer3_output_channel\n",
        "  def __init__(self):\n",
        "    super(cnn_model, self).__init__()\n",
        "    self.num_residual_units = 3 # number of units per layer\n",
        "    self.num_residual_layers = 2 # number of layer per model\n",
        "    self.res_kernel_size = (3, 3)\n",
        "\n",
        "    self.layer1 = models.Sequential(\n",
        "        [\n",
        "         layers.Conv2D(layer1_output_channel, layer1_kernel_size, strides=(2, 2), \n",
        "                       padding='same', input_shape=input_img_shape, activation='relu'),\n",
        "         layers.MaxPool2D(pool_size=(4, 4))]\n",
        "    )\n",
        "\n",
        "    self.res_unit1 = models.Sequential(\n",
        "        [layers.Conv2D(layer2_output_channel, res_kernel_size, padding='same'),\n",
        "         layers.BatchNormalization(),\n",
        "         layers.ReLU(),\n",
        "         layers.Conv2D(layer2_output_channel, res_kernel_size, padding='same'),\n",
        "         layers.BatchNormalization(),\n",
        "         layers.ReLU()\n",
        "         ]\n",
        "    )\n",
        "    '''\n",
        "\n",
        "    self.res_unit2 = models.Sequential(\n",
        "        [layers.Conv2D(layer3_output_channel, res_kernel_size, strides=(2, 2), padding='same'),\n",
        "         layers.BatchNormalization(),\n",
        "         layers.ReLU(),\n",
        "         layers.Conv2D(layer3_output_channel, res_kernel_size, padding='same'),\n",
        "         layers.BatchNormalization(),\n",
        "         layers.ReLU()\n",
        "         ]\n",
        "    )\n",
        "\n",
        "    self.res_unit3 = models.Sequential(\n",
        "        [layers.Conv2D(layer3_output_channel, res_kernel_size, padding='same'),\n",
        "         layers.BatchNormalization(),\n",
        "         layers.ReLU(),\n",
        "         layers.Conv2D(layer3_output_channel, res_kernel_size, padding='same'),\n",
        "         layers.BatchNormalization(),\n",
        "         layers.ReLU()\n",
        "         ]\n",
        "    )'''\n",
        "\n",
        "    #self.identity = layers.Conv2D(layer3_output_channel, (1, 1), padding='same', strides=(2, 2))\n",
        "\n",
        "    self.flatten_layer = layers.Flatten()\n",
        "\n",
        "    self.classifier = models.Sequential(\n",
        "        [layers.Dense(4)]\n",
        "    )\n",
        "\n",
        "  def call(self, x):\n",
        "    x = self.layer1(x)\n",
        "    x_t = self.res_unit1(x)\n",
        "    x = x + x_t\n",
        "    #x_t = self.res_unit1(x)\n",
        "    #x = x + x_t\n",
        "    #x_t = self.res_unit1(x)\n",
        "    #x = x + x_t\n",
        "    #x_t = self.res_unit2(x)\n",
        "    #x = self.identity(x) + x_t\n",
        "    #x_t = self.res_unit3(x)\n",
        "    #x = x + x_t\n",
        "    #x_t = self.res_unit3(x)\n",
        "    #x = x + x_t\n",
        "    #x_t = self.res_unit3(x)\n",
        "    #x = x + x_t\n",
        "    x = self.flatten_layer(x)\n",
        "    x = self.classifier(x)\n",
        "    probs = softmax(x)\n",
        "    return probs"
      ],
      "metadata": {
        "id": "zKkhFVOmHfkT"
      },
      "execution_count": null,
      "outputs": []
    },
    {
      "cell_type": "code",
      "source": [
        "class cnn_model(tf.keras.Model):\n",
        "  global input_img_shape, input_channel, layer1_output_channel, layer1_kernel_size, res_kernel_size, layer2_output_channel, layer3_output_channel\n",
        "  def __init__(self):\n",
        "    super(cnn_model, self).__init__()\n",
        "\n",
        "    self.layer1 = models.Sequential(\n",
        "        [layers.Conv2D(layer1_output_channel, layer1_kernel_size, strides=(2, 2), \n",
        "                       padding='same', input_shape=input_img_shape, activation='relu'),\n",
        "         layers.MaxPool2D(pool_size=(2, 2))]\n",
        "    )\n",
        "\n",
        "    self.unit1 = models.Sequential(\n",
        "        [layers.Conv2D(layer2_output_channel, res_kernel_size, padding='same'),\n",
        "         layers.BatchNormalization(),\n",
        "         layers.ReLU(),\n",
        "         layers.Conv2D(layer2_output_channel, res_kernel_size, padding='same'),\n",
        "         layers.BatchNormalization(),\n",
        "         layers.ReLU()\n",
        "         ]\n",
        "    )\n",
        "    '''\n",
        "    self.unit2 = models.Sequential(\n",
        "        [layers.Conv2D(layer2_output_channel, res_kernel_size, padding='same'),\n",
        "         layers.BatchNormalization(),\n",
        "         layers.ReLU(),\n",
        "         layers.Conv2D(layer2_output_channel, res_kernel_size, padding='same'),\n",
        "         layers.BatchNormalization(),\n",
        "         layers.ReLU()\n",
        "         ]\n",
        "    )\n",
        "\n",
        "    self.unit3 = models.Sequential(\n",
        "        [layers.Conv2D(layer2_output_channel, res_kernel_size, padding='same'),\n",
        "         layers.BatchNormalization(),\n",
        "         layers.ReLU(),\n",
        "         layers.Conv2D(layer2_output_channel, res_kernel_size, padding='same'),\n",
        "         layers.BatchNormalization(),\n",
        "         layers.ReLU()\n",
        "         ]\n",
        "    )\n",
        "    '''\n",
        "\n",
        "    self.unit4 = models.Sequential(\n",
        "        [layers.Conv2D(layer3_output_channel, res_kernel_size, strides=(2, 2), padding='same'),\n",
        "         layers.BatchNormalization(),\n",
        "         layers.ReLU(),\n",
        "         layers.Conv2D(layer3_output_channel, res_kernel_size, padding='same'),\n",
        "         layers.BatchNormalization(),\n",
        "         layers.ReLU()\n",
        "         ]\n",
        "    )\n",
        "\n",
        "    '''self.unit5 = models.Sequential(\n",
        "        [layers.Conv2D(layer3_output_channel, res_kernel_size, padding='same'),\n",
        "         layers.BatchNormalization(),\n",
        "         layers.ReLU(),\n",
        "         layers.Conv2D(layer3_output_channel, res_kernel_size, padding='same'),\n",
        "         layers.BatchNormalization(),\n",
        "         layers.ReLU()\n",
        "         ]\n",
        "    )\n",
        "\n",
        "    self.unit6 = models.Sequential(\n",
        "        [layers.Conv2D(layer3_output_channel, res_kernel_size, padding='same'),\n",
        "         layers.BatchNormalization(),\n",
        "         layers.ReLU(),\n",
        "         layers.Conv2D(layer3_output_channel, res_kernel_size, padding='same'),\n",
        "         layers.BatchNormalization(),\n",
        "         layers.ReLU()\n",
        "         ]\n",
        "    )\n",
        "\n",
        "    self.unit7 = models.Sequential(\n",
        "        [layers.Conv2D(layer3_output_channel, res_kernel_size, padding='same'),\n",
        "         layers.BatchNormalization(),\n",
        "         layers.ReLU(),\n",
        "         layers.Conv2D(layer3_output_channel, res_kernel_size, padding='same'),\n",
        "         layers.BatchNormalization(),\n",
        "         layers.ReLU()\n",
        "         ]\n",
        "    )   '''\n",
        "    self.identity = layers.Conv2D(layer3_output_channel, (1, 1), padding='same', strides=(2, 2))\n",
        "    self.flatten_layer = layers.Flatten()\n",
        "\n",
        "    self.classifier = models.Sequential(\n",
        "        [layers.Dense(4)]\n",
        "    )\n",
        "\n",
        "    \n",
        "\n",
        "  def call(self, x):\n",
        "    x = self.layer1(x)\n",
        "    x = self.unit1(x)\n",
        "    #x = x + x_t\n",
        "    #x_t = self.unit2(x)\n",
        "    #x = x + x_t\n",
        "    #x_t = self.unit3(x)\n",
        "    #x = x + x_t\n",
        "    x = self.unit4(x)\n",
        "    #x = self.identity(x) + x_t\n",
        "    #x_t = self.unit5(x)\n",
        "    #x = x + x_t\n",
        "    #x_t = self.unit6(x)\n",
        "    #x = x + x_t\n",
        "    #x_t = self.unit7(x)\n",
        "    #x = x + x_t\n",
        "    x = self.flatten_layer(x)\n",
        "    x = self.classifier(x)\n",
        "    probs = tf.nn.softmax(x)\n",
        "    return probs"
      ],
      "metadata": {
        "id": "oy7m1ziH8YMZ"
      },
      "execution_count": null,
      "outputs": []
    }
  ]
}